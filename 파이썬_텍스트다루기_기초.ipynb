{
  "nbformat": 4,
  "nbformat_minor": 0,
  "metadata": {
    "colab": {
      "provenance": [],
      "toc_visible": true,
      "authorship_tag": "ABX9TyOSrswjvxRH4261F6OH3s1T",
      "include_colab_link": true
    },
    "kernelspec": {
      "name": "python3",
      "display_name": "Python 3"
    },
    "language_info": {
      "name": "python"
    }
  },
  "cells": [
    {
      "cell_type": "markdown",
      "metadata": {
        "id": "view-in-github",
        "colab_type": "text"
      },
      "source": [
        "<a href=\"https://colab.research.google.com/github/DataTak/study_textmining/blob/main/%ED%8C%8C%EC%9D%B4%EC%8D%AC_%ED%85%8D%EC%8A%A4%ED%8A%B8%EB%8B%A4%EB%A3%A8%EA%B8%B0_%EA%B8%B0%EC%B4%88.ipynb\" target=\"_parent\"><img src=\"https://colab.research.google.com/assets/colab-badge.svg\" alt=\"Open In Colab\"/></a>"
      ]
    },
    {
      "cell_type": "markdown",
      "source": [
        "# 데이터 타입\n",
        "- 기본 자료형: 숫자(int, float), 문자(str), 논리형(bool)\n",
        "- 집합 자료형: 리스트(list), 튜플(tuple), 딕셔너리(dictonary), 집합(set)\n"
      ],
      "metadata": {
        "id": "8tOXkDUvaWmN"
      }
    },
    {
      "cell_type": "code",
      "execution_count": 1,
      "metadata": {
        "colab": {
          "base_uri": "https://localhost:8080/"
        },
        "id": "_-j32zU4Z4uw",
        "outputId": "adb6992f-7a99-41e9-f638-6b33a0868a93"
      },
      "outputs": [
        {
          "output_type": "execute_result",
          "data": {
            "text/plain": [
              "int"
            ]
          },
          "metadata": {},
          "execution_count": 1
        }
      ],
      "source": [
        "type(1)"
      ]
    },
    {
      "cell_type": "code",
      "source": [
        "type(\"1\")"
      ],
      "metadata": {
        "colab": {
          "base_uri": "https://localhost:8080/"
        },
        "id": "HSTHfA98aqOS",
        "outputId": "3a6f6bc7-90e7-46db-b2de-1123077d7270"
      },
      "execution_count": 2,
      "outputs": [
        {
          "output_type": "execute_result",
          "data": {
            "text/plain": [
              "str"
            ]
          },
          "metadata": {},
          "execution_count": 2
        }
      ]
    },
    {
      "cell_type": "code",
      "source": [
        "type(True)"
      ],
      "metadata": {
        "colab": {
          "base_uri": "https://localhost:8080/"
        },
        "id": "bmAHM73cavSA",
        "outputId": "b5de2236-36cd-4dde-e16c-4ddd85a6689f"
      },
      "execution_count": 4,
      "outputs": [
        {
          "output_type": "execute_result",
          "data": {
            "text/plain": [
              "bool"
            ]
          },
          "metadata": {},
          "execution_count": 4
        }
      ]
    },
    {
      "cell_type": "code",
      "source": [
        "type(['영재', '텍스트'])"
      ],
      "metadata": {
        "colab": {
          "base_uri": "https://localhost:8080/"
        },
        "id": "hFtIx4qvarZA",
        "outputId": "8179be17-1299-4ae1-d132-c1ff5c2f8954"
      },
      "execution_count": 3,
      "outputs": [
        {
          "output_type": "execute_result",
          "data": {
            "text/plain": [
              "list"
            ]
          },
          "metadata": {},
          "execution_count": 3
        }
      ]
    },
    {
      "cell_type": "code",
      "source": [
        "type({1, 2, 3})"
      ],
      "metadata": {
        "colab": {
          "base_uri": "https://localhost:8080/"
        },
        "id": "TORGsH06axtH",
        "outputId": "e24202c9-17b8-4209-c495-610291129c75"
      },
      "execution_count": 5,
      "outputs": [
        {
          "output_type": "execute_result",
          "data": {
            "text/plain": [
              "set"
            ]
          },
          "metadata": {},
          "execution_count": 5
        }
      ]
    },
    {
      "cell_type": "code",
      "source": [
        "type({'a': 1, 'b': 2})"
      ],
      "metadata": {
        "colab": {
          "base_uri": "https://localhost:8080/"
        },
        "id": "ZdYjdmHda3ki",
        "outputId": "ac6cd019-1bd8-4fd4-f843-2eec9fab9cf8"
      },
      "execution_count": 6,
      "outputs": [
        {
          "output_type": "execute_result",
          "data": {
            "text/plain": [
              "dict"
            ]
          },
          "metadata": {},
          "execution_count": 6
        }
      ]
    },
    {
      "cell_type": "code",
      "source": [
        "type((1, 2, 3))"
      ],
      "metadata": {
        "colab": {
          "base_uri": "https://localhost:8080/"
        },
        "id": "UUBt9d1pa4y1",
        "outputId": "eb756c91-8816-44f8-9ab7-ab0cb865fc1f"
      },
      "execution_count": 7,
      "outputs": [
        {
          "output_type": "execute_result",
          "data": {
            "text/plain": [
              "tuple"
            ]
          },
          "metadata": {},
          "execution_count": 7
        }
      ]
    },
    {
      "cell_type": "markdown",
      "source": [
        "# 문자열 실습"
      ],
      "metadata": {
        "id": "VW3uelR2bA64"
      }
    },
    {
      "cell_type": "markdown",
      "source": [
        "## 문자열 표현\n",
        "- 큰따옴표, 작은따옴표로 표현\n",
        "- 큰따옴표 안에 작은따옴표를 넣을 수 있음. 또는 그 반대도 가능\n",
        "- 또는 역슬래시(\\)로도 인식 가능"
      ],
      "metadata": {
        "id": "oY2lU_a8bIxy"
      }
    },
    {
      "cell_type": "code",
      "source": [
        "print('가을 하늘이 너무 높고 예쁘네요')"
      ],
      "metadata": {
        "colab": {
          "base_uri": "https://localhost:8080/"
        },
        "id": "hEbagXhxa74z",
        "outputId": "53ed7bf3-4601-46b6-82f3-2a000b3583be"
      },
      "execution_count": 8,
      "outputs": [
        {
          "output_type": "stream",
          "name": "stdout",
          "text": [
            "가을 하늘이 너무 높고 예쁘네요\n"
          ]
        }
      ]
    },
    {
      "cell_type": "code",
      "source": [
        "print('가을 하늘이 '너무' 예쁘네요')"
      ],
      "metadata": {
        "colab": {
          "base_uri": "https://localhost:8080/",
          "height": 108
        },
        "id": "LudoTHVgbapp",
        "outputId": "13487a02-9256-4ead-983b-e6eecb61e080"
      },
      "execution_count": 9,
      "outputs": [
        {
          "output_type": "error",
          "ename": "SyntaxError",
          "evalue": "invalid syntax. Perhaps you forgot a comma? (<ipython-input-9-2e90e11b02ce>, line 1)",
          "traceback": [
            "\u001b[0;36m  File \u001b[0;32m\"<ipython-input-9-2e90e11b02ce>\"\u001b[0;36m, line \u001b[0;32m1\u001b[0m\n\u001b[0;31m    print('가을 하늘이 '너무' 예쁘네요')\u001b[0m\n\u001b[0m          ^\u001b[0m\n\u001b[0;31mSyntaxError\u001b[0m\u001b[0;31m:\u001b[0m invalid syntax. Perhaps you forgot a comma?\n"
          ]
        }
      ]
    },
    {
      "cell_type": "code",
      "source": [
        "print('가을 하늘이 \"너무\" 예쁘네요')"
      ],
      "metadata": {
        "colab": {
          "base_uri": "https://localhost:8080/"
        },
        "id": "BkFmocLebduH",
        "outputId": "08e0a402-2599-4d37-ff2e-a985134b7e5a"
      },
      "execution_count": 10,
      "outputs": [
        {
          "output_type": "stream",
          "name": "stdout",
          "text": [
            "가을 하늘이 \"너무\" 예쁘네요\n"
          ]
        }
      ]
    },
    {
      "cell_type": "code",
      "source": [
        "print('가을 하늘이 \\'너무\\' 예쁘네요')"
      ],
      "metadata": {
        "colab": {
          "base_uri": "https://localhost:8080/"
        },
        "id": "_LqvsHxabgvM",
        "outputId": "d8968cd9-1414-4ebe-d5f0-2e83fef4b577"
      },
      "execution_count": 11,
      "outputs": [
        {
          "output_type": "stream",
          "name": "stdout",
          "text": [
            "가을 하늘이 '너무' 예쁘네요\n"
          ]
        }
      ]
    },
    {
      "cell_type": "markdown",
      "source": [
        "## 표현 방법 및 오류처리\n",
        "- 줄바꿈은 `\\n` 사용\n",
        "- 문자 덧셈은 두 문자 결합\n"
      ],
      "metadata": {
        "id": "gnbvZkvtb6qU"
      }
    },
    {
      "cell_type": "code",
      "source": [
        "#줄바꿈 방법\n",
        "print(\"가을 하늘이 너무 높고 \\n 예쁘네요.\")"
      ],
      "metadata": {
        "colab": {
          "base_uri": "https://localhost:8080/"
        },
        "id": "QnxAlFVVbw5w",
        "outputId": "4616d479-ef7b-4fbb-c7b7-05fcce5936b7"
      },
      "execution_count": 13,
      "outputs": [
        {
          "output_type": "stream",
          "name": "stdout",
          "text": [
            "가을 하늘이 너무 높고 \n",
            " 예쁘네요.\n"
          ]
        }
      ]
    },
    {
      "cell_type": "code",
      "source": [
        "1+1"
      ],
      "metadata": {
        "colab": {
          "base_uri": "https://localhost:8080/"
        },
        "id": "o9NeyoNncPq8",
        "outputId": "0052e592-1794-46c8-ec81-7e508c603bb6"
      },
      "execution_count": 17,
      "outputs": [
        {
          "output_type": "execute_result",
          "data": {
            "text/plain": [
              "2"
            ]
          },
          "metadata": {},
          "execution_count": 17
        }
      ]
    },
    {
      "cell_type": "code",
      "source": [
        "\"1\"+\"1\""
      ],
      "metadata": {
        "colab": {
          "base_uri": "https://localhost:8080/",
          "height": 36
        },
        "id": "BKKMPOcucbBr",
        "outputId": "eed59fe5-2221-4ce8-9cd8-03ef71946556"
      },
      "execution_count": 18,
      "outputs": [
        {
          "output_type": "execute_result",
          "data": {
            "text/plain": [
              "'11'"
            ],
            "application/vnd.google.colaboratory.intrinsic+json": {
              "type": "string"
            }
          },
          "metadata": {},
          "execution_count": 18
        }
      ]
    },
    {
      "cell_type": "code",
      "source": [
        "print(\"가을 하늘이\"\" 너무\"\" 예쁘네요\")"
      ],
      "metadata": {
        "colab": {
          "base_uri": "https://localhost:8080/"
        },
        "id": "Rw1WZR-kcCIV",
        "outputId": "24a2a3ef-9ef1-4e12-e37a-b26048b749ad"
      },
      "execution_count": 16,
      "outputs": [
        {
          "output_type": "stream",
          "name": "stdout",
          "text": [
            "가을 하늘이 너무 예쁘네요\n"
          ]
        }
      ]
    },
    {
      "cell_type": "code",
      "source": [
        "\"가을\" + 1"
      ],
      "metadata": {
        "colab": {
          "base_uri": "https://localhost:8080/",
          "height": 144
        },
        "id": "5BVBNsu7cdJf",
        "outputId": "6ae2d4d0-6eae-4a65-8299-02f02cbf05b8"
      },
      "execution_count": 19,
      "outputs": [
        {
          "output_type": "error",
          "ename": "TypeError",
          "evalue": "can only concatenate str (not \"int\") to str",
          "traceback": [
            "\u001b[0;31m---------------------------------------------------------------------------\u001b[0m",
            "\u001b[0;31mTypeError\u001b[0m                                 Traceback (most recent call last)",
            "\u001b[0;32m<ipython-input-19-417b6db19b86>\u001b[0m in \u001b[0;36m<cell line: 1>\u001b[0;34m()\u001b[0m\n\u001b[0;32m----> 1\u001b[0;31m \u001b[0;34m\"가을\"\u001b[0m \u001b[0;34m+\u001b[0m \u001b[0;36m1\u001b[0m\u001b[0;34m\u001b[0m\u001b[0;34m\u001b[0m\u001b[0m\n\u001b[0m",
            "\u001b[0;31mTypeError\u001b[0m: can only concatenate str (not \"int\") to str"
          ]
        }
      ]
    },
    {
      "cell_type": "code",
      "source": [
        "num = 2\n",
        "print(f\"사과를 좋아하는 학생은 {num}명입니다.\")"
      ],
      "metadata": {
        "colab": {
          "base_uri": "https://localhost:8080/"
        },
        "id": "5NPUq3Udcn08",
        "outputId": "2f0d2493-4a22-48dd-9b03-c6fd0643f659"
      },
      "execution_count": 21,
      "outputs": [
        {
          "output_type": "stream",
          "name": "stdout",
          "text": [
            "사과를 좋아하는 학생은 2명입니다.\n"
          ]
        }
      ]
    },
    {
      "cell_type": "markdown",
      "source": [
        "# 문자열을 다루는 여러 방법"
      ],
      "metadata": {
        "id": "7b2E7afzc1wp"
      }
    },
    {
      "cell_type": "markdown",
      "source": [
        "## 변수\n",
        "- 이름이 붙은 저장소\n",
        "- 숫자, 문자 등 다양한 자료를 담을 수 있음\n",
        "- 규칙\n",
        "    - 숫자로 시작할 수 없음\n",
        "    - 밑줄(`_`)을 제외한 특수문자 사용 할 수 없음.\n",
        "    - 예약어 사용 불가능(예약어는 특정 기능을 수행하도록 미리 예약되어 있는 단어. `True`, `and`, `import` 등)"
      ],
      "metadata": {
        "id": "6QhCHXmgc6J7"
      }
    },
    {
      "cell_type": "code",
      "source": [
        "school = \"경북초등학교\""
      ],
      "metadata": {
        "id": "jAUbEikec5ak"
      },
      "execution_count": 22,
      "outputs": []
    },
    {
      "cell_type": "code",
      "source": [
        "print(school)"
      ],
      "metadata": {
        "colab": {
          "base_uri": "https://localhost:8080/"
        },
        "id": "3gjz3JxfcukJ",
        "outputId": "4d7631e0-fbc3-4145-b2d9-8729e1ff5fe5"
      },
      "execution_count": 23,
      "outputs": [
        {
          "output_type": "stream",
          "name": "stdout",
          "text": [
            "경북초등학교\n"
          ]
        }
      ]
    },
    {
      "cell_type": "markdown",
      "source": [
        "## 데이터 값 가지고 오기\n",
        "- 인덱싱(indexing)\n",
        "    - 데이터의 값을 순서대로 불러오는 방법.\n",
        "    - `[ ]` 를 사용\n",
        "    - 0부터 시작, 뒤에서 부터 인덱싱 할 때에는 - 부호 사용\n",
        "- 슬라이싱(slicing)\n",
        "    - 구간, 범위를 지정해 불러오는 방법\n",
        "    - `[시작 : 끝 : 단계]` 로 작성\n",
        "    - 단계는 생략할 수 있음. (디폴드값은 1)"
      ],
      "metadata": {
        "id": "IK8Y0xf7eAgX"
      }
    },
    {
      "cell_type": "code",
      "source": [
        "school[0]"
      ],
      "metadata": {
        "colab": {
          "base_uri": "https://localhost:8080/",
          "height": 36
        },
        "id": "DpuMvcCVd_Im",
        "outputId": "456afc82-5b4a-47b4-840e-866167924286"
      },
      "execution_count": 24,
      "outputs": [
        {
          "output_type": "execute_result",
          "data": {
            "text/plain": [
              "'경'"
            ],
            "application/vnd.google.colaboratory.intrinsic+json": {
              "type": "string"
            }
          },
          "metadata": {},
          "execution_count": 24
        }
      ]
    },
    {
      "cell_type": "code",
      "source": [
        "school[-1]"
      ],
      "metadata": {
        "colab": {
          "base_uri": "https://localhost:8080/",
          "height": 36
        },
        "id": "JNovhkNXeRir",
        "outputId": "a22ba334-24ff-47e2-b9d2-8fa659601f59"
      },
      "execution_count": 26,
      "outputs": [
        {
          "output_type": "execute_result",
          "data": {
            "text/plain": [
              "'교'"
            ],
            "application/vnd.google.colaboratory.intrinsic+json": {
              "type": "string"
            }
          },
          "metadata": {},
          "execution_count": 26
        }
      ]
    },
    {
      "cell_type": "code",
      "source": [
        "school[1:3]"
      ],
      "metadata": {
        "colab": {
          "base_uri": "https://localhost:8080/",
          "height": 36
        },
        "id": "iC5MydzJeUsv",
        "outputId": "4ead42c3-2f35-4e23-c1c9-33c2595b9468"
      },
      "execution_count": 27,
      "outputs": [
        {
          "output_type": "execute_result",
          "data": {
            "text/plain": [
              "'북초'"
            ],
            "application/vnd.google.colaboratory.intrinsic+json": {
              "type": "string"
            }
          },
          "metadata": {},
          "execution_count": 27
        }
      ]
    },
    {
      "cell_type": "code",
      "source": [
        "school[::2]"
      ],
      "metadata": {
        "colab": {
          "base_uri": "https://localhost:8080/",
          "height": 36
        },
        "id": "ljAL1tR-e2ye",
        "outputId": "16413673-d454-46f1-abfa-e3543c922e77"
      },
      "execution_count": 28,
      "outputs": [
        {
          "output_type": "execute_result",
          "data": {
            "text/plain": [
              "'경초학'"
            ],
            "application/vnd.google.colaboratory.intrinsic+json": {
              "type": "string"
            }
          },
          "metadata": {},
          "execution_count": 28
        }
      ]
    },
    {
      "cell_type": "markdown",
      "source": [
        "## 문자열 길이, 단어 수\n",
        "- `len()`은 띄어쓰기 포함 글자의 수\n",
        "- `.split()`를 사용하면 띄어쓰기 단위로 단어 수 확인\n",
        "- 중복된 단어를 제외하려면 자료형을 `set()` 으로 변경\n"
      ],
      "metadata": {
        "id": "1N6yGdXbfCjz"
      }
    },
    {
      "cell_type": "code",
      "source": [
        "text = \"텍스트 마이닝 공부는 너무 재미있어요. 텍스트 분석 좋아요.\""
      ],
      "metadata": {
        "id": "baPL__0ze-nb"
      },
      "execution_count": 29,
      "outputs": []
    },
    {
      "cell_type": "code",
      "source": [
        "len(text)"
      ],
      "metadata": {
        "colab": {
          "base_uri": "https://localhost:8080/"
        },
        "id": "-9CNSpKcfqus",
        "outputId": "76395354-d440-4d06-8f7b-f2149b9dfd85"
      },
      "execution_count": 30,
      "outputs": [
        {
          "output_type": "execute_result",
          "data": {
            "text/plain": [
              "33"
            ]
          },
          "metadata": {},
          "execution_count": 30
        }
      ]
    },
    {
      "cell_type": "code",
      "source": [
        "len(text.split())"
      ],
      "metadata": {
        "colab": {
          "base_uri": "https://localhost:8080/"
        },
        "id": "9XZwi7-kfsXs",
        "outputId": "bc1d948c-eb43-407b-e796-f9c85d56b35c"
      },
      "execution_count": 31,
      "outputs": [
        {
          "output_type": "execute_result",
          "data": {
            "text/plain": [
              "8"
            ]
          },
          "metadata": {},
          "execution_count": 31
        }
      ]
    },
    {
      "cell_type": "code",
      "source": [
        "len(set(text.split()))"
      ],
      "metadata": {
        "colab": {
          "base_uri": "https://localhost:8080/"
        },
        "id": "zWMM28wMft-x",
        "outputId": "6cbd144d-62ae-4134-b3b0-af3017fce149"
      },
      "execution_count": 32,
      "outputs": [
        {
          "output_type": "execute_result",
          "data": {
            "text/plain": [
              "7"
            ]
          },
          "metadata": {},
          "execution_count": 32
        }
      ]
    },
    {
      "cell_type": "markdown",
      "source": [
        "## 문자열 함수"
      ],
      "metadata": {
        "id": "0hXhlUuZf94p"
      }
    },
    {
      "cell_type": "markdown",
      "source": [
        "### 대소문자 변환\n",
        "- `upper()`, `lower()`"
      ],
      "metadata": {
        "id": "dycCnpXJgART"
      }
    },
    {
      "cell_type": "code",
      "source": [
        "text = ' 나는 Apple을 좋아합니다.      '"
      ],
      "metadata": {
        "id": "lrB5f8qZfxJ-"
      },
      "execution_count": 39,
      "outputs": []
    },
    {
      "cell_type": "code",
      "source": [
        "text.upper()"
      ],
      "metadata": {
        "colab": {
          "base_uri": "https://localhost:8080/",
          "height": 36
        },
        "id": "nHStrlRkgKQP",
        "outputId": "4329908e-98af-4b4c-cb97-ed083fb73573"
      },
      "execution_count": 41,
      "outputs": [
        {
          "output_type": "execute_result",
          "data": {
            "text/plain": [
              "' 나는 APPLE을 좋아합니다.      '"
            ],
            "application/vnd.google.colaboratory.intrinsic+json": {
              "type": "string"
            }
          },
          "metadata": {},
          "execution_count": 41
        }
      ]
    },
    {
      "cell_type": "code",
      "source": [
        "text.lower()"
      ],
      "metadata": {
        "colab": {
          "base_uri": "https://localhost:8080/",
          "height": 36
        },
        "id": "CHLkBPnugLDp",
        "outputId": "f8e6e66b-209d-4737-a7a4-56aa6d5c6509"
      },
      "execution_count": 42,
      "outputs": [
        {
          "output_type": "execute_result",
          "data": {
            "text/plain": [
              "' 나는 apple을 좋아합니다.      '"
            ],
            "application/vnd.google.colaboratory.intrinsic+json": {
              "type": "string"
            }
          },
          "metadata": {},
          "execution_count": 42
        }
      ]
    },
    {
      "cell_type": "markdown",
      "source": [
        "### 앞뒤 공백 제거\n",
        "- `strip()`"
      ],
      "metadata": {
        "id": "my71jBoMgPJ5"
      }
    },
    {
      "cell_type": "code",
      "source": [
        "text.strip()"
      ],
      "metadata": {
        "colab": {
          "base_uri": "https://localhost:8080/",
          "height": 36
        },
        "id": "-kF5hn35gOIl",
        "outputId": "a98a00dc-27f2-4416-d1cc-f9b66fd07765"
      },
      "execution_count": 40,
      "outputs": [
        {
          "output_type": "execute_result",
          "data": {
            "text/plain": [
              "'나는 Apple을 좋아합니다.'"
            ],
            "application/vnd.google.colaboratory.intrinsic+json": {
              "type": "string"
            }
          },
          "metadata": {},
          "execution_count": 40
        }
      ]
    },
    {
      "cell_type": "markdown",
      "source": [
        "### 리스트 구조에서 사용하는 함수\n",
        "- `append()`: 새로운 단어 추가\n",
        "- `split()`: 띄어쓰기 기준으로 자르기\n",
        "- `sort()`: 가나다 순으로 정렬\n",
        "- `join()`: 분리했던 텍스트 원래 형태로 복원\n"
      ],
      "metadata": {
        "id": "DUUadAPBgu2j"
      }
    },
    {
      "cell_type": "code",
      "source": [
        "text = '나는 Apple을 좋아합니다.'"
      ],
      "metadata": {
        "id": "xlQ-Z1ergkZO"
      },
      "execution_count": 63,
      "outputs": []
    },
    {
      "cell_type": "code",
      "source": [
        "text_split = text.split()\n",
        "text_split"
      ],
      "metadata": {
        "colab": {
          "base_uri": "https://localhost:8080/"
        },
        "id": "l1OsrIYbhryq",
        "outputId": "84af1286-a8ec-4e67-bd06-3149690e9934"
      },
      "execution_count": 64,
      "outputs": [
        {
          "output_type": "execute_result",
          "data": {
            "text/plain": [
              "['나는', 'Apple을', '좋아합니다.']"
            ]
          },
          "metadata": {},
          "execution_count": 64
        }
      ]
    },
    {
      "cell_type": "code",
      "source": [
        "text_split.append('파이썬도 좋아요.')\n",
        "text_split"
      ],
      "metadata": {
        "colab": {
          "base_uri": "https://localhost:8080/"
        },
        "id": "BblqohoNhPqm",
        "outputId": "ccbeaab6-1ffe-4747-bd83-4c8fa2f69d8f"
      },
      "execution_count": 65,
      "outputs": [
        {
          "output_type": "execute_result",
          "data": {
            "text/plain": [
              "['나는', 'Apple을', '좋아합니다.', '파이썬도 좋아요.']"
            ]
          },
          "metadata": {},
          "execution_count": 65
        }
      ]
    },
    {
      "cell_type": "code",
      "source": [
        "text_split.sort()\n",
        "text_split"
      ],
      "metadata": {
        "colab": {
          "base_uri": "https://localhost:8080/"
        },
        "id": "mFerbGnohX44",
        "outputId": "87068c97-c0c9-4090-ce9f-5d226feb25b2"
      },
      "execution_count": 67,
      "outputs": [
        {
          "output_type": "execute_result",
          "data": {
            "text/plain": [
              "['Apple을', '나는', '좋아합니다.', '파이썬도 좋아요.']"
            ]
          },
          "metadata": {},
          "execution_count": 67
        }
      ]
    },
    {
      "cell_type": "code",
      "source": [
        "\" \".join(text_split)"
      ],
      "metadata": {
        "colab": {
          "base_uri": "https://localhost:8080/",
          "height": 36
        },
        "id": "MdrYX39Ahgxy",
        "outputId": "e4d05631-093f-4631-9391-8220b3122b72"
      },
      "execution_count": 69,
      "outputs": [
        {
          "output_type": "execute_result",
          "data": {
            "text/plain": [
              "'Apple을 나는 좋아합니다. 파이썬도 좋아요.'"
            ],
            "application/vnd.google.colaboratory.intrinsic+json": {
              "type": "string"
            }
          },
          "metadata": {},
          "execution_count": 69
        }
      ]
    },
    {
      "cell_type": "code",
      "source": [
        "\"-\".join(text_split)"
      ],
      "metadata": {
        "colab": {
          "base_uri": "https://localhost:8080/",
          "height": 36
        },
        "id": "BrXs92fXiJKu",
        "outputId": "964b8128-ae42-4146-db68-4468b0d1e8dd"
      },
      "execution_count": 70,
      "outputs": [
        {
          "output_type": "execute_result",
          "data": {
            "text/plain": [
              "'Apple을-나는-좋아합니다.-파이썬도 좋아요.'"
            ],
            "application/vnd.google.colaboratory.intrinsic+json": {
              "type": "string"
            }
          },
          "metadata": {},
          "execution_count": 70
        }
      ]
    },
    {
      "cell_type": "markdown",
      "source": [
        "# 배운 내용을 활용해 봅시다.\n"
      ],
      "metadata": {
        "id": "wPRcJvn9jCsC"
      }
    },
    {
      "cell_type": "markdown",
      "source": [
        "## 문제1. 자료형 이해\n",
        "- 다음 값을 각각 변수로 저장하고 변수의 자료형을 출력하세요.\n",
        "    - 변수명: 자료  의 형태\n",
        "    - 나이: `12`\n",
        "    - 이름: `김영재`\n",
        "    - 취미: `['축구', '코딩', '게임']`"
      ],
      "metadata": {
        "id": "BTtExqW-jHKn"
      }
    },
    {
      "cell_type": "code",
      "source": [],
      "metadata": {
        "id": "8Gn61D2ul__y"
      },
      "execution_count": null,
      "outputs": []
    },
    {
      "cell_type": "code",
      "source": [],
      "metadata": {
        "id": "-ZxNt-Gxj1Ip"
      },
      "execution_count": null,
      "outputs": []
    },
    {
      "cell_type": "code",
      "source": [],
      "metadata": {
        "id": "4Mpa6aQ_j1xW"
      },
      "execution_count": null,
      "outputs": []
    },
    {
      "cell_type": "code",
      "source": [],
      "metadata": {
        "id": "poZe8PMTj1DV"
      },
      "execution_count": null,
      "outputs": []
    },
    {
      "cell_type": "markdown",
      "source": [
        "## 문제2. 문자열 처리\n",
        "- 아래 문장에서 단어를 모두 대문자로 변환 후 출력하세요.\n",
        "- sentence = `\"Python is fun, and learning Python is great\"`\n"
      ],
      "metadata": {
        "id": "7Y1YO3NjjmqM"
      }
    },
    {
      "cell_type": "code",
      "source": [
        "setence = \"Python is fun, and learning Python is great\""
      ],
      "metadata": {
        "id": "vt2flfUUjYcw"
      },
      "execution_count": 71,
      "outputs": []
    },
    {
      "cell_type": "code",
      "source": [],
      "metadata": {
        "id": "RjypQRr8kgKn"
      },
      "execution_count": null,
      "outputs": []
    },
    {
      "cell_type": "markdown",
      "source": [
        "## 문제3. 리스트 활용\n",
        "- 아래의 리스트에 'Python'을 추가해 보세요."
      ],
      "metadata": {
        "id": "p64BI7QQkRkj"
      }
    },
    {
      "cell_type": "code",
      "source": [
        "languages = ['C', 'Java', 'JavaScript']"
      ],
      "metadata": {
        "id": "TVpX8JYxkZBi"
      },
      "execution_count": 76,
      "outputs": []
    },
    {
      "cell_type": "code",
      "source": [],
      "metadata": {
        "id": "Ue8Ki5lVkY-3"
      },
      "execution_count": 77,
      "outputs": []
    },
    {
      "cell_type": "markdown",
      "source": [
        "## 문제4. 인덱싱과 슬라이싱\n",
        "- 다음 문자열에서 \"초등학교\"부분만 추출하세요."
      ],
      "metadata": {
        "id": "hlQ1loOMks0Q"
      }
    },
    {
      "cell_type": "code",
      "source": [
        "school_name=\"경북초등학교\""
      ],
      "metadata": {
        "id": "AjsOkr5UkHCa"
      },
      "execution_count": 79,
      "outputs": []
    },
    {
      "cell_type": "code",
      "source": [],
      "metadata": {
        "id": "bCWEA1kVl-WI"
      },
      "execution_count": null,
      "outputs": []
    },
    {
      "cell_type": "markdown",
      "source": [
        "## 문제5. 문자열 함수 적영\n",
        "- 다음 문장의 단어의 개수(띄어쓰기 기준)를 출력하세요. 단, 중복된 단어는 한 번만 세어서 출력합니다."
      ],
      "metadata": {
        "id": "m3EaFIxkk5Gv"
      }
    },
    {
      "cell_type": "code",
      "source": [
        "text = \"텍스트 분석은 정말 재미있다. 텍스트 분석은 많은 활용도가 있다.\""
      ],
      "metadata": {
        "id": "5DpbXkoqk1Ti"
      },
      "execution_count": 90,
      "outputs": []
    },
    {
      "cell_type": "code",
      "source": [],
      "metadata": {
        "id": "vVjktdA_lml6"
      },
      "execution_count": null,
      "outputs": []
    }
  ]
}